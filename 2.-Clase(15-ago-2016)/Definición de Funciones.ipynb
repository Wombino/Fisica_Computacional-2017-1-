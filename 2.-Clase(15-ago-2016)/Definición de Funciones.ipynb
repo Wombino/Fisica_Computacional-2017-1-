{
 "cells": [
  {
   "cell_type": "code",
   "execution_count": 32,
   "metadata": {
    "collapsed": true
   },
   "outputs": [],
   "source": [
    "def mi_factorial(n):\n",
    "    f = 1\n",
    "    num = range(2, n+1)\n",
    "    for i in num:\n",
    "        f = f*i\n",
    "    return f"
   ]
  },
  {
   "cell_type": "code",
   "execution_count": 19,
   "metadata": {
    "collapsed": false
   },
   "outputs": [],
   "source": [
    "def mi_sine(x,n_max):\n",
    "    x = x%(2*pi)\n",
    "    y = 0.\n",
    "    if x<= (pi/2):\n",
    "        print \"intervalo 1\"\n",
    "    elif (pi/2)< x <= pi:\n",
    "        print \"intervalo 2\"\n",
    "        x= pi-x\n",
    "    elif (pi)< x <= (3*pi/2):\n",
    "        print \"intervalo 3\"\n",
    "        x= pi-x\n",
    "    else:\n",
    "        print \"intervalo 4\"\n",
    "        x= x-2*pi\n",
    "    for n in range(n_max):\n",
    "        p = 2*n + 1\n",
    "        y = y + ((-1)**n)*(x**(p)/mi_factorial(p))\n",
    "    return y"
   ]
  },
  {
   "cell_type": "code",
   "execution_count": 20,
   "metadata": {
    "collapsed": false
   },
   "outputs": [],
   "source": [
    "from pylab import *\n",
    "%matplotlib inline"
   ]
  },
  {
   "cell_type": "code",
   "execution_count": 39,
   "metadata": {
    "collapsed": false
   },
   "outputs": [
    {
     "name": "stdout",
     "output_type": "stream",
     "text": [
      "1.22464679915e-16\n",
      "intervalo 2\n",
      "0.0\n",
      "1.0\n",
      "intervalo 1\n",
      "1.0\n"
     ]
    }
   ],
   "source": [
    "print sin(pi)\n",
    "print mi_sine(pi,5)\n",
    "print sin(pi/2)\n",
    "print mi_sine(pi/2,9)"
   ]
  },
  {
   "cell_type": "code",
   "execution_count": null,
   "metadata": {
    "collapsed": false
   },
   "outputs": [],
   "source": [
    "mi_factorial(100)"
   ]
  },
  {
   "cell_type": "code",
   "execution_count": null,
   "metadata": {
    "collapsed": true
   },
   "outputs": [],
   "source": []
  }
 ],
 "metadata": {
  "kernelspec": {
   "display_name": "Python [Root]",
   "language": "python",
   "name": "Python [Root]"
  },
  "language_info": {
   "codemirror_mode": {
    "name": "ipython",
    "version": 2
   },
   "file_extension": ".py",
   "mimetype": "text/x-python",
   "name": "python",
   "nbconvert_exporter": "python",
   "pygments_lexer": "ipython2",
   "version": "2.7.12"
  }
 },
 "nbformat": 4,
 "nbformat_minor": 0
}
