{
 "cells": [
  {
   "cell_type": "markdown",
   "metadata": {},
   "source": [
    "# **Extendamos el integrador de Euler a segundo Orden**"
   ]
  },
  {
   "cell_type": "markdown",
   "metadata": {},
   "source": [
    "Dada una ecuación diferencial de la forma:\n",
    "\n",
    "$$ y'(x) = f(x, y) $$\n",
    "\n",
    "$$ y_{n+1} = y_{n} + h f(x,y) + \\frac{h²}{2} \\left( \\frac{\\partial f}{\\partial x} + \\frac{\\partial f}{\\partial y} f \\right) $$"
   ]
  },
  {
   "cell_type": "code",
   "execution_count": 11,
   "metadata": {
    "collapsed": true
   },
   "outputs": [],
   "source": [
    "def segundo_euler_orden1(ec_diff, ec_jac, p_ini, t_final, h=0.1):\n",
    "    \n",
    "    tiempo = arange(0, t_final + h, h)\n",
    "    y = zeros(len(tiempo))\n",
    "    y[0] = p_ini\n",
    "    \n",
    "    for i in range(len(tiempo)-1):\n",
    "        y[i+1] = y[i] + h * ec_diff(y[i], tiempo[i])\n",
    "        y[i+1] += 0.5*(h**2)*ec_jac(y[i], tiempo[i])[0]\n",
    "        y[i+1] += 0.5*(h**2)*ec_jac(y[i], tiempo[i])[1]*ec_diff(y[i], tiempo[i])\n",
    "    \n",
    "    return tiempo, y"
   ]
  },
  {
   "cell_type": "code",
   "execution_count": 4,
   "metadata": {
    "collapsed": false
   },
   "outputs": [
    {
     "name": "stderr",
     "output_type": "stream",
     "text": [
      "/home/maunio/anaconda2/lib/python2.7/site-packages/matplotlib/font_manager.py:273: UserWarning: Matplotlib is building the font cache using fc-list. This may take a moment.\n",
      "  warnings.warn('Matplotlib is building the font cache using fc-list. This may take a moment.')\n"
     ]
    }
   ],
   "source": [
    "from pylab import *\n",
    "%matplotlib inline"
   ]
  },
  {
   "cell_type": "code",
   "execution_count": 6,
   "metadata": {
    "collapsed": true
   },
   "outputs": [],
   "source": [
    "def primer_euler_orden1(ec_diff, p_ini, t_final, h=0.1):\n",
    "    \n",
    "    tiempo = arange(0, t_final + h, h)\n",
    "    y = zeros(len(tiempo))\n",
    "    y[0] = p_ini\n",
    "    \n",
    "    for i in range(len(tiempo)-1):\n",
    "        y[i+1] = y[i] + h * ec_diff(y[i], tiempo[i])\n",
    "            \n",
    "    return tiempo, y"
   ]
  },
  {
   "cell_type": "code",
   "execution_count": 7,
   "metadata": {
    "collapsed": true
   },
   "outputs": [],
   "source": [
    "def ec_diff_1(y, x):\n",
    "    return x*sin(y)\n",
    "\n",
    "def d_ec_diff_1(y, x):\n",
    "    return sin(y), x*cos(y)"
   ]
  },
  {
   "cell_type": "code",
   "execution_count": 15,
   "metadata": {
    "collapsed": false
   },
   "outputs": [
    {
     "data": {
      "image/png": "[encoded data removed]",
      "text/plain": [
       "<matplotlib.figure.Figure at 0x7fc519b9a410>"
      ]
     },
     "metadata": {},
     "output_type": "display_data"
    }
   ],
   "source": [
    "y_euler = primer_euler_orden1(ec_diff_1, 1, 5.0)\n",
    "y_euler_01 = primer_euler_orden1(ec_diff_1, 1, 5.0, 0.01 )    \n",
    "y_segundo_euler = segundo_euler_orden1(ec_diff_1, d_ec_diff_1, 1, 5.0)\n",
    "\n",
    "plot(y_euler[0], y_euler[1], '--', label= \"Euler h=0.1\")\n",
    "plot(y_euler_01[0], y_euler_01[1], '--', label= \"Euler h=0.01\")\n",
    "plot(y_segundo_euler[0], y_segundo_euler[1], 'o', label= \"2do Euler h= 0.1\")\n",
    "legend()\n",
    "show()"
   ]
  },
  {
   "cell_type": "code",
   "execution_count": 19,
   "metadata": {
    "collapsed": false
   },
   "outputs": [
    {
     "data": {
      "image/png": "[encoded data removed]",
      "text/plain": [
       "<matplotlib.figure.Figure at 0x7fc519972750>"
      ]
     },
     "metadata": {},
     "output_type": "display_data"
    }
   ],
   "source": [
    "y_euler = primer_euler_orden1(ec_diff_1, 1, 5.0)\n",
    "y_euler_01 = primer_euler_orden1(ec_diff_1, 1, 5.0, 0.01 )    \n",
    "y_segundo_euler = segundo_euler_orden1(ec_diff_1, d_ec_diff_1, 1, 5.0)\n",
    "\n",
    "y_bis = y_euler[1]-y_segundo_euler[1]\n",
    "\n",
    "plot(y_euler[0], y_bis, '--', label= \"Dif Euler h= 0.1 - 2do Euler h= 0.1\")\n",
    "legend()\n",
    "show()"
   ]
  },
  {
   "cell_type": "code",
   "execution_count": null,
   "metadata": {
    "collapsed": true
   },
   "outputs": [],
   "source": []
  }
 ],
 "metadata": {
  "kernelspec": {
   "display_name": "Python [Root]",
   "language": "python",
   "name": "Python [Root]"
  },
  "language_info": {
   "codemirror_mode": {
    "name": "ipython",
    "version": 2
   },
   "file_extension": ".py",
   "mimetype": "text/x-python",
   "name": "python",
   "nbconvert_exporter": "python",
   "pygments_lexer": "ipython2",
   "version": "2.7.12"
  }
 },
 "nbformat": 4,
 "nbformat_minor": 0
}
