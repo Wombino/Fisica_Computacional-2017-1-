{
 "cells": [
  {
   "cell_type": "code",
   "execution_count": 1,
   "metadata": {
    "collapsed": true
   },
   "outputs": [],
   "source": [
    "def mi_factorial(n):\n",
    "    f = 1\n",
    "    num = range(2, n+1)\n",
    "    for i in num:\n",
    "        f = f*i\n",
    "    return f"
   ]
  },
  {
   "cell_type": "code",
   "execution_count": 2,
   "metadata": {
    "collapsed": true
   },
   "outputs": [],
   "source": [
    "def mi_sine(x,n_max):\n",
    "    x = x%(2*pi)\n",
    "    y = 0.\n",
    "    if x<= (pi/2):\n",
    "        #print \"intervalo 1\"\n",
    "        x = x\n",
    "    elif (pi/2)< x <= pi:\n",
    "        #print \"intervalo 2\"\n",
    "        x= pi-x\n",
    "    elif (pi)< x <= (3*pi/2):\n",
    "        #print \"intervalo 3\"\n",
    "        x= pi-x\n",
    "    else:\n",
    "        #print \"intervalo 4\"\n",
    "        x= x-2*pi\n",
    "    \n",
    "    for n in range(n_max):\n",
    "        p = 2*n + 1\n",
    "        y = y + ((-1)**n)*(x**(p)/mi_factorial(p))\n",
    "    err_abs = abs(x**(p+2))/mi_factorial(p+2)\n",
    "    return y, err_abs"
   ]
  },
  {
   "cell_type": "code",
   "execution_count": null,
   "metadata": {
    "collapsed": true
   },
   "outputs": [],
   "source": []
  }
 ],
 "metadata": {
  "kernelspec": {
   "display_name": "Python [Root]",
   "language": "python",
   "name": "Python [Root]"
  },
  "language_info": {
   "codemirror_mode": {
    "name": "ipython",
    "version": 2
   },
   "file_extension": ".py",
   "mimetype": "text/x-python",
   "name": "python",
   "nbconvert_exporter": "python",
   "pygments_lexer": "ipython2",
   "version": "2.7.12"
  }
 },
 "nbformat": 4,
 "nbformat_minor": 0
}
