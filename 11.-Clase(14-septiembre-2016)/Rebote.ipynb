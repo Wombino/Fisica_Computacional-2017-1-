{
 "cells": [
  {
   "cell_type": "code",
   "execution_count": null,
   "metadata": {
    "collapsed": true
   },
   "outputs": [],
   "source": [
    "def raiz_bip_vec(func,t_iz_de,x_iz,ind,err=1e-9):\n",
    "    t_med = 0.5*(t_iz_de[0] + t_iz_de[1])\n",
    "    n = 0\n",
    "    \n",
    "    while abs(x_iz_de[1][ind])>=err:\n",
    "        t, x_m = rk4(func,x_iz[0],[t_iz_de[0], t_med])\n",
    "        if x_m \n",
    "        if y_m == 0.:\n",
    "            print \"chin, le atine :D\"\n",
    "            break\n",
    "        if y_m*y_i < 0:\n",
    "            x_d = raiz\n",
    "        else:\n",
    "            x_i = raiz\n",
    "        raiz = 0.5*(x_i+x_d)\n",
    "        y_i,y_d = func(x_i),func(x_d)\n",
    "        n += 1\n",
    "        print \"paso: \",n,\"\\t\", \"  raiz=\",raiz\n",
    "    return raiz"
   ]
  }
 ],
 "metadata": {
  "kernelspec": {
   "display_name": "Python [Root]",
   "language": "python",
   "name": "Python [Root]"
  },
  "language_info": {
   "codemirror_mode": {
    "name": "ipython",
    "version": 2
   },
   "file_extension": ".py",
   "mimetype": "text/x-python",
   "name": "python",
   "nbconvert_exporter": "python",
   "pygments_lexer": "ipython2",
   "version": "2.7.12"
  }
 },
 "nbformat": 4,
 "nbformat_minor": 0
}
