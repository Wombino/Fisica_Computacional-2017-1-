{
 "cells": [
  {
   "cell_type": "markdown",
   "metadata": {},
   "source": [
    "# Integradores 3"
   ]
  },
  {
   "cell_type": "markdown",
   "metadata": {},
   "source": [
    "Como vimos después de Euler conseguimos un método llamado metodos Jacobianos. Determinado por la siguiente fórmula:\n",
    "\n",
    "$$ y'(x) = f(x, y) $$\n",
    "\n",
    "$$ y_{n+1} = y_{n} + h f(x,y) + \\frac{h²}{2} \\left( \\frac{\\partial f}{\\partial x} + \\frac{\\partial f}{\\partial y} f \\right) $$"
   ]
  },
  {
   "cell_type": "markdown",
   "metadata": {},
   "source": [
    "Sin embargo necesita de más información, el Jacobiano de la ecuación diferencial.\n",
    "\n",
    "### Pongamos manos a la obra para encontrar una forma de integrar más básica."
   ]
  },
  {
   "cell_type": "markdown",
   "metadata": {},
   "source": [
    "Busquemos usar la aproximación a segundo orden, como vimos en clase:\n",
    "\n",
    "$$\n",
    "\\vec y_{n+1} = \\vec y_n + h \\vec f + \\frac{1}{2}h² \\left( \\frac{\\partial \\vec f}{\\partial x} + \\mathbb{J}\\vec f \\right)\n",
    "$$\n",
    "\n",
    "Donde $ f $ es $ f(x_n, \\vec y_n) $, $ \\mathbb{J} $ es el Jacobiano de $ f $ evaluado en $ (x_n, \\vec y_n) $."
   ]
  },
  {
   "cell_type": "code",
   "execution_count": 2,
   "metadata": {
    "collapsed": false
   },
   "outputs": [
    {
     "name": "stderr",
     "output_type": "stream",
     "text": [
      "/home/maunio/anaconda2/lib/python2.7/site-packages/matplotlib/font_manager.py:273: UserWarning: Matplotlib is building the font cache using fc-list. This may take a moment.\n",
      "  warnings.warn('Matplotlib is building the font cache using fc-list. This may take a moment.')\n"
     ]
    }
   ],
   "source": [
    "import numpy as np\n",
    "%matplotlib inline"
   ]
  },
  {
   "cell_type": "code",
   "execution_count": null,
   "metadata": {
    "collapsed": true
   },
   "outputs": [],
   "source": [
    "def integra2(ecuacion, jacobiano, p_ini, ti_tf, h=0.1):\n",
    "    jn1 = yn + (h*f) + (0.5*h*h*(jac[0] + dot(jac[1], f)))"
   ]
  }
 ],
 "metadata": {
  "kernelspec": {
   "display_name": "Python [Root]",
   "language": "python",
   "name": "Python [Root]"
  },
  "language_info": {
   "codemirror_mode": {
    "name": "ipython",
    "version": 2
   },
   "file_extension": ".py",
   "mimetype": "text/x-python",
   "name": "python",
   "nbconvert_exporter": "python",
   "pygments_lexer": "ipython2",
   "version": "2.7.12"
  }
 },
 "nbformat": 4,
 "nbformat_minor": 0
}
