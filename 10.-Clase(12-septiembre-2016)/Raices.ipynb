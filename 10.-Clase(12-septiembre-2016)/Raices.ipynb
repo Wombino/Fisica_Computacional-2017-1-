{
 "cells": [
  {
   "cell_type": "markdown",
   "metadata": {},
   "source": [
    "# En este notebook se desarrollan métodos para encontrar raices\n",
    "## $$f(x)=0$$"
   ]
  },
  {
   "cell_type": "code",
   "execution_count": 1,
   "metadata": {
    "collapsed": false
   },
   "outputs": [
    {
     "name": "stderr",
     "output_type": "stream",
     "text": [
      "/home/maunio/anaconda2/lib/python2.7/site-packages/matplotlib/font_manager.py:273: UserWarning: Matplotlib is building the font cache using fc-list. This may take a moment.\n",
      "  warnings.warn('Matplotlib is building the font cache using fc-list. This may take a moment.')\n"
     ]
    }
   ],
   "source": [
    "from pylab import *\n",
    "%matplotlib inline"
   ]
  },
  {
   "cell_type": "code",
   "execution_count": 13,
   "metadata": {
    "collapsed": true
   },
   "outputs": [],
   "source": [
    "def raiz_bip(func,x_i,x_d,err=1e-9):\n",
    "    raiz = 0.5*(x_i+x_d)\n",
    "    y_i,y_d = func(x_i),func(x_d)\n",
    "    n = 0\n",
    "    while abs(raiz - x_d)>=err and abs(y_d-y_i)>=err:\n",
    "        y_m = func(raiz)\n",
    "        if y_m == 0.:\n",
    "            print \"chin, le atine :D\"\n",
    "            break\n",
    "        if y_m*y_i < 0:\n",
    "            x_d = raiz\n",
    "        else:\n",
    "            x_i = raiz\n",
    "        raiz = 0.5*(x_i+x_d)\n",
    "        y_i,y_d = func(x_i),func(x_d)\n",
    "        n += 1\n",
    "        print \"paso: \",n,\"\\t\", \"  raiz=\",raiz\n",
    "    return raiz"
   ]
  },
  {
   "cell_type": "code",
   "execution_count": 8,
   "metadata": {
    "collapsed": true
   },
   "outputs": [],
   "source": [
    "def mi_newton_1(funcion, d_funcion, x_ini, error=1e-8):\n",
    "    n=0\n",
    "    while abs(funcion(x_ini)) >= error:\n",
    "        print n,\"\\t\",x_ini\n",
    "        raiz = x_ini - funcion(x_ini)/d_funcion(x_ini)\n",
    "        x_ini = raiz\n",
    "        n = n + 1\n",
    "    return raiz"
   ]
  },
  {
   "cell_type": "code",
   "execution_count": 32,
   "metadata": {
    "collapsed": true
   },
   "outputs": [],
   "source": [
    "def derivada_numerica(funcion, x, h=1e-4):\n",
    "    return (funcion(x+h)-funcion(x-h))/(2*h)"
   ]
  },
  {
   "cell_type": "code",
   "execution_count": 36,
   "metadata": {
    "collapsed": false
   },
   "outputs": [],
   "source": [
    "def mi_newton_2(funcion, x_ini, error=1e-5):\n",
    "    n=0\n",
    "    while abs(funcion(x_ini)) >= error:\n",
    "        print n,\"\\t\",x_ini\n",
    "        raiz = x_ini - funcion(x_ini)/derivada_numerica(funcion,x_ini)\n",
    "        x_ini = raiz\n",
    "        n = n + 1\n",
    "    return raiz\n"
   ]
  },
  {
   "cell_type": "code",
   "execution_count": null,
   "metadata": {
    "collapsed": true
   },
   "outputs": [],
   "source": [
    "def derivada_numerica_orden_mayor(funcion, x, h=1e-4):\n",
    "    return (8*funcion(x+h)-8*funcion(x-h)+funcion(x-2h)-funcion(x+2h))/(12*h)"
   ]
  },
  {
   "cell_type": "code",
   "execution_count": 20,
   "metadata": {
    "collapsed": true
   },
   "outputs": [],
   "source": [
    "def funcion_ejemplo(x):\n",
    "    return (tan((pi-8*x)**0.5))**3 + x**2\n",
    "\n",
    "def d_funcion_ejemplo(x):\n",
    "    return 2*x - 12.0*(-8*x + pi)**(-0.5)*(tan((-8*x + pi)**0.5)**2 + 1)*tan((-8*x + pi)**0.5)**2\n",
    "    "
   ]
  },
  {
   "cell_type": "code",
   "execution_count": 15,
   "metadata": {
    "collapsed": false
   },
   "outputs": [
    {
     "name": "stdout",
     "output_type": "stream",
     "text": [
      "paso:  1 \t  raiz= -3.025\n",
      "paso:  2 \t  raiz= -2.8625\n",
      "paso:  3 \t  raiz= -2.94375\n",
      "paso:  4 \t  raiz= -2.903125\n",
      "paso:  5 \t  raiz= -2.9234375\n",
      "paso:  6 \t  raiz= -2.93359375\n",
      "paso:  7 \t  raiz= -2.938671875\n",
      "paso:  8 \t  raiz= -2.9412109375\n",
      "paso:  9 \t  raiz= -2.94248046875\n",
      "paso:  10 \t  raiz= -2.94311523438\n",
      "paso:  11 \t  raiz= -2.94279785156\n",
      "paso:  12 \t  raiz= -2.94263916016\n",
      "paso:  13 \t  raiz= -2.94271850586\n",
      "paso:  14 \t  raiz= -2.94267883301\n",
      "paso:  15 \t  raiz= -2.94265899658\n",
      "paso:  16 \t  raiz= -2.94266891479\n",
      "paso:  17 \t  raiz= -2.9426738739\n",
      "paso:  18 \t  raiz= -2.94267635345\n",
      "paso:  19 \t  raiz= -2.94267759323\n",
      "paso:  20 \t  raiz= -2.94267821312\n",
      "paso:  21 \t  raiz= -2.94267790318\n",
      "paso:  22 \t  raiz= -2.94267805815\n",
      "paso:  23 \t  raiz= -2.94267813563\n",
      "paso:  24 \t  raiz= -2.94267809689\n",
      "paso:  25 \t  raiz= -2.94267811626\n",
      "paso:  26 \t  raiz= -2.94267812595\n",
      "paso:  27 \t  raiz= -2.94267813079\n",
      "paso:  28 \t  raiz= -2.94267812837\n",
      "paso:  29 \t  raiz= -2.94267812716\n",
      "paso:  30 \t  raiz= -2.94267812776\n"
     ]
    },
    {
     "data": {
      "text/plain": [
       "-2.942678127763793"
      ]
     },
     "execution_count": 15,
     "metadata": {},
     "output_type": "execute_result"
    }
   ],
   "source": [
    "raiz_bip(funcion_ejemplo,-4.0,-2.7)"
   ]
  },
  {
   "cell_type": "code",
   "execution_count": 18,
   "metadata": {
    "collapsed": false
   },
   "outputs": [
    {
     "name": "stdout",
     "output_type": "stream",
     "text": [
      "paso:  1 \t  raiz= -0.575\n",
      "paso:  2 \t  raiz= -0.3375\n",
      "paso:  3 \t  raiz= -0.45625\n",
      "paso:  4 \t  raiz= -0.515625\n",
      "paso:  5 \t  raiz= -0.4859375\n",
      "paso:  6 \t  raiz= -0.47109375\n",
      "paso:  7 \t  raiz= -0.463671875\n",
      "paso:  8 \t  raiz= -0.4599609375\n",
      "paso:  9 \t  raiz= -0.45810546875\n",
      "paso:  10 \t  raiz= -0.457177734375\n",
      "paso:  11 \t  raiz= -0.456713867188\n",
      "paso:  12 \t  raiz= -0.456481933594\n",
      "paso:  13 \t  raiz= -0.456597900391\n",
      "paso:  14 \t  raiz= -0.456539916992\n",
      "paso:  15 \t  raiz= -0.456510925293\n",
      "paso:  16 \t  raiz= -0.456496429443\n",
      "paso:  17 \t  raiz= -0.456489181519\n",
      "paso:  18 \t  raiz= -0.456492805481\n",
      "paso:  19 \t  raiz= -0.4564909935\n",
      "paso:  20 \t  raiz= -0.456490087509\n",
      "paso:  21 \t  raiz= -0.456490540504\n",
      "paso:  22 \t  raiz= -0.456490314007\n",
      "paso:  23 \t  raiz= -0.456490427256\n",
      "paso:  24 \t  raiz= -0.456490370631\n",
      "paso:  25 \t  raiz= -0.456490398943\n",
      "paso:  26 \t  raiz= -0.4564904131\n",
      "paso:  27 \t  raiz= -0.456490406021\n",
      "paso:  28 \t  raiz= -0.456490402482\n",
      "paso:  29 \t  raiz= -0.456490400713\n",
      "paso:  30 \t  raiz= -0.456490399828\n"
     ]
    },
    {
     "data": {
      "text/plain": [
       "-0.4564903998281808"
      ]
     },
     "execution_count": 18,
     "metadata": {},
     "output_type": "execute_result"
    }
   ],
   "source": [
    "raiz_bip(funcion_ejemplo,-2.0,-0.1)"
   ]
  },
  {
   "cell_type": "code",
   "execution_count": 21,
   "metadata": {
    "collapsed": false
   },
   "outputs": [
    {
     "name": "stdout",
     "output_type": "stream",
     "text": [
      "0 \t-4.0\n",
      "1 \t-2.08230265647\n",
      "2 \t-1.98223724368\n",
      "3 \t-1.84419531028\n",
      "4 \t-1.64410621601\n",
      "5 \t-1.33678988885\n",
      "6 \t-0.890969748627\n",
      "7 \t-0.449053221684\n",
      "8 \t-0.456323592672\n",
      "9 \t-0.456490317248\n"
     ]
    },
    {
     "data": {
      "text/plain": [
       "-0.45649040060028229"
      ]
     },
     "execution_count": 21,
     "metadata": {},
     "output_type": "execute_result"
    }
   ],
   "source": [
    "mi_newton_1(funcion_ejemplo, d_funcion_ejemplo, -4.0)"
   ]
  },
  {
   "cell_type": "code",
   "execution_count": 38,
   "metadata": {
    "collapsed": false
   },
   "outputs": [
    {
     "name": "stdout",
     "output_type": "stream",
     "text": [
      "0 \t-2.0\n",
      "1 \t-1.86907841414\n",
      "2 \t-1.68107602176\n",
      "3 \t-1.39424585052\n",
      "4 \t-0.967091179176\n",
      "5 \t-0.503788379395\n",
      "6 \t-0.45024079041\n",
      "7 \t-0.456372731903\n"
     ]
    },
    {
     "data": {
      "text/plain": [
       "-0.45649035911327762"
      ]
     },
     "execution_count": 38,
     "metadata": {},
     "output_type": "execute_result"
    }
   ],
   "source": [
    "mi_newton_2(funcion_ejemplo, -2.0)"
   ]
  },
  {
   "cell_type": "code",
   "execution_count": 31,
   "metadata": {
    "collapsed": false
   },
   "outputs": [
    {
     "data": {
      "image/png": "[encoded data removed]",
      "text/plain": [
       "<matplotlib.figure.Figure at 0x7fbc9649fe10>"
      ]
     },
     "metadata": {},
     "output_type": "display_data"
    }
   ],
   "source": [
    "x = linspace(-5,0,100)\n",
    "ylim([-30,30])\n",
    "plot(x, funcion_ejemplo(x),'-')\n",
    "plot([-2.942678127763793],[0], 'o')\n",
    "plot([-0.4564903998281808],[0], 'o')\n",
    "plot([-0.45649040060028229],[0], 'x')\n",
    "plot\n",
    "show()"
   ]
  },
  {
   "cell_type": "code",
   "execution_count": 3,
   "metadata": {
    "collapsed": false
   },
   "outputs": [
    {
     "data": {
      "image/png": "[encoded data removed]",
      "text/plain": [
       "<matplotlib.figure.Figure at 0x7fbc9887c090>"
      ]
     },
     "metadata": {},
     "output_type": "display_data"
    }
   ],
   "source": [
    "x=linspace(3,4)\n",
    "plot(x,sin(x))\n",
    "grid(True)\n",
    "show()"
   ]
  },
  {
   "cell_type": "code",
   "execution_count": null,
   "metadata": {
    "collapsed": true
   },
   "outputs": [],
   "source": []
  },
  {
   "cell_type": "code",
   "execution_count": 4,
   "metadata": {
    "collapsed": false
   },
   "outputs": [
    {
     "name": "stdout",
     "output_type": "stream",
     "text": [
      "La raiz es:  paso:  1   raiz= -0.175\n",
      "paso:  2   raiz= -0.0625\n",
      "paso:  3   raiz= -0.00625\n",
      "paso:  4   raiz= 0.021875\n",
      "paso:  5   raiz= 0.0078125\n",
      "paso:  6   raiz= 0.00078125\n",
      "paso:  7   raiz= -0.002734375\n",
      "paso:  8   raiz= -0.0009765625\n",
      "paso:  9   raiz= -9.765625e-05\n",
      "paso:  10   raiz= 0.000341796875\n",
      "paso:  11   raiz= 0.0001220703125\n",
      "paso:  12   raiz= 1.220703125e-05\n",
      "paso:  13   raiz= -4.2724609375e-05\n",
      "paso:  14   raiz= -1.52587890625e-05\n",
      "paso:  15   raiz= -1.52587890626e-06\n",
      "paso:  16   raiz= 5.34057617186e-06\n",
      "paso:  17   raiz= 1.9073486328e-06\n",
      "paso:  18   raiz= 1.90734863269e-07\n",
      "paso:  19   raiz= -6.67572021497e-07\n",
      "paso:  20   raiz= -2.38418579114e-07\n",
      "paso:  21   raiz= -2.38418579225e-08\n",
      "paso:  22   raiz= 8.34465026732e-08\n",
      "paso:  23   raiz= 2.98023223754e-08\n",
      "paso:  24   raiz= 2.98023222643e-09\n",
      "paso:  25   raiz= -1.0430812848e-08\n",
      "paso:  26   raiz= -3.7252903108e-09\n",
      "-3.7252903108e-09\n"
     ]
    }
   ],
   "source": [
    "print \"La raiz es: \",raiz_bip(sin,-0.4,0.5,1e-8)"
   ]
  },
  {
   "cell_type": "code",
   "execution_count": 5,
   "metadata": {
    "collapsed": true
   },
   "outputs": [],
   "source": [
    "def una_funcion(x):\n",
    "    return (x-1)**5"
   ]
  },
  {
   "cell_type": "code",
   "execution_count": 6,
   "metadata": {
    "collapsed": false
   },
   "outputs": [
    {
     "data": {
      "image/png": "[encoded data removed]",
      "text/plain": [
       "<matplotlib.figure.Figure at 0x7fbc964de690>"
      ]
     },
     "metadata": {},
     "output_type": "display_data"
    }
   ],
   "source": [
    "x=linspace(0,2)\n",
    "plot(x,una_funcion(x))\n",
    "show()"
   ]
  },
  {
   "cell_type": "code",
   "execution_count": null,
   "metadata": {
    "collapsed": true
   },
   "outputs": [],
   "source": []
  }
 ],
 "metadata": {
  "kernelspec": {
   "display_name": "Python [Root]",
   "language": "python",
   "name": "Python [Root]"
  },
  "language_info": {
   "codemirror_mode": {
    "name": "ipython",
    "version": 2
   },
   "file_extension": ".py",
   "mimetype": "text/x-python",
   "name": "python",
   "nbconvert_exporter": "python",
   "pygments_lexer": "ipython2",
   "version": "2.7.12"
  }
 },
 "nbformat": 4,
 "nbformat_minor": 0
}
