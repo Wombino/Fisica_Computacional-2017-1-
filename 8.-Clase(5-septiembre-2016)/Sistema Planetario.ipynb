{
 "cells": [
  {
   "cell_type": "markdown",
   "metadata": {},
   "source": [
    "# Resolver problemas prácticos\n",
    "\n",
    "## Gravitación de dos cuerpos"
   ]
  },
  {
   "cell_type": "markdown",
   "metadata": {},
   "source": [
    "La ecuación a resolver en general esta dada por:\n",
    "\n",
    "$$\n",
    "\\frac{d \\vec p}{dt}=-\\frac{G M m}{{\\mathbb{|} \\vec r - \\vec r_{M} \\mathbb{|}}³} (\\vec r - \\vec r_{M})\n",
    "$$\n",
    "\n",
    "Podemos ponernos en el centro de masa, o por conveniencia en la masa mayor, con lo cual obtenemos:\n",
    "\n",
    "$$\n",
    "\\frac{d \\vec r}{dt}=-\\frac{G M m}{r³} \\vec r\n",
    "$$\n",
    "\n",
    "Considerando $t_1 = t(GM)^{\\frac{1}{2}}$ obtenemos:\n",
    "\n",
    "$$\n",
    "\\frac{d}{dt}= \\frac{dt_1}{dt} \\frac{d}{dt_1} = (GM)^\\frac{1}{2} \\frac{d}{dt_1}\n",
    "$$\n",
    "\n",
    "$$\n",
    "\\frac{d²}{dt²}= GM \\frac{d²}{{dt_1}²}\n",
    "$$\n",
    "\n",
    "$$\n",
    "\\vec \\rho = \\frac{\\vec r}{R_T} \n",
    "$$\n",
    "\n",
    "Con lo cual llegamos:\n",
    "\n",
    "$$\n",
    "\\frac{d² \\vec \\rho}{dt²} = - \\frac{GM}{{\\rho}³{R_T}³} \\vec \\rho\n",
    "$$\n",
    "\n",
    "Finalmente hacemos un último cambio de variable:\n",
    "\n",
    "$$\n",
    "\\tau = (\\frac{GM}{{R_T}³})^\\frac{1}{2} t \n",
    "$$\n",
    "\n",
    "Y obtenemos:\n",
    "\n",
    "$$\n",
    "\\frac{d² \\vec \\rho}{{d \\vec \\rho}²}= \\frac{\\vec \\rho}{{\\rho}³}\n",
    "$$"
   ]
  },
  {
   "cell_type": "markdown",
   "metadata": {},
   "source": [
    "Para resolver el problema tomamos encuenta la tercera ley de Kepler:\n",
    "\n",
    "$$\n",
    "\\frac{(2 \\pi)² {R_T}³}{GM} = T²\n",
    "$$"
   ]
  },
  {
   "cell_type": "code",
   "execution_count": 47,
   "metadata": {
    "collapsed": false
   },
   "outputs": [],
   "source": [
    "from pylab import *\n",
    "%run \"mis_integradores.ipynb\"\n",
    "%matplotlib inline"
   ]
  },
  {
   "cell_type": "code",
   "execution_count": 4,
   "metadata": {
    "collapsed": true
   },
   "outputs": [],
   "source": [
    "def mov_planeta(x,t):\n",
    "    r3 = (x[0]**2 + x[1]**2)**1.5\n",
    "    drx = x[2]\n",
    "    dry = x[3]\n",
    "    dvx = -x[0]/r3\n",
    "    dvy = -x[1]/r3\n",
    "    return array([drx, dry, dvx, dvy])"
   ]
  },
  {
   "cell_type": "code",
   "execution_count": 41,
   "metadata": {
    "collapsed": false
   },
   "outputs": [
    {
     "data": {
      "image/png": "[encoded data removed]",
      "text/plain": [
       "<matplotlib.figure.Figure at 0x7f0400003ed0>"
      ]
     },
     "metadata": {},
     "output_type": "display_data"
    },
    {
     "name": "stdout",
     "output_type": "stream",
     "text": [
      "CPU times: user 206 ms, sys: 0 ns, total: 206 ms\n",
      "Wall time: 205 ms\n"
     ]
    }
   ],
   "source": [
    "%%time\n",
    "t, r_vr = RK_midP(mov_planeta, [1,0,0.9,0.7], [0,1.8*2*pi], 0.1)\n",
    "zoom = 2.5 \n",
    "xlim([-zoom, zoom]), ylim([-zoom, zoom])\n",
    "axes().set_aspect('equal'), grid(True)\n",
    "plot(r_vr[:,0], r_vr[:,1],'o')\n",
    "show()"
   ]
  },
  {
   "cell_type": "markdown",
   "metadata": {},
   "source": [
    "Para usar el metodo de Euler de segundo orden necesitamos definir la matriz Jacobiana, a partir de las ecuaciones:\n",
    "\n",
    "$$\n",
    "\\frac{d {\\rho}_x}{d{\\tau}} = v_{\\rho x}\n",
    "$$\n",
    "\n",
    "$$\n",
    "\\frac{d {\\rho}_y}{d{\\tau}} = v_{\\rho y}\n",
    "$$\n",
    "\n",
    "$$\n",
    "\\frac{d v_{\\rho x}}{d{\\tau}} = - \\frac{{\\rho}_x}{{\\rho}³}\n",
    "$$\n",
    "\n",
    "$$\n",
    "\\frac{d v_{\\rho y}}{d{\\tau}} = - \\frac{{\\rho}_y}{{\\rho}³}\n",
    "$$\n",
    "\n",
    "Con lo que obtenemos:\n",
    "\n",
    "$$\n",
    "\\left( \\begin{matrix} \n",
    "\\frac{\\partial {\\frac{d {\\rho}_x}{d{\\tau}}} }{\\partial x} = 0 & \n",
    "\\frac{\\partial {\\frac{d {\\rho}_x}{d{\\tau}}} }{\\partial y} = 0 &\n",
    "\\frac{\\partial {\\frac{d {\\rho}_x}{d{\\tau}}} }{\\partial v_{\\rho x}} = 1 &\n",
    "\\frac{\\partial {\\frac{d {\\rho}_x}{d{\\tau}}} }{\\partial v_{\\rho y}} = 0 \\\\\n",
    "\\frac{\\partial {\\frac{d {\\rho}_y}{d{\\tau}}} }{\\partial x} = 0 & \n",
    "\\frac{\\partial {\\frac{d {\\rho}_y}{d{\\tau}}} }{\\partial y} = 0 & \n",
    "\\frac{\\partial {\\frac{d {\\rho}_y}{d{\\tau}}} }{\\partial v_{\\rho x}} = 0 &\n",
    "\\frac{\\partial {\\frac{d {\\rho}_y}{d{\\tau}}} }{\\partial v_{\\rho y}} = 1 \\\\\n",
    "\\frac{\\partial {\\frac{d v_{\\rho x}}{d{\\tau}}} }{\\partial x} = \\frac{2 { {\\rho}_x }² - { {\\rho}_y }² }{{\\rho}⁵} & \n",
    "\\frac{\\partial {\\frac{d v_{\\rho x}}{d{\\tau}}} }{\\partial y} = \\frac{3 {\\rho}_x {\\rho}_y }{{\\rho}⁵} & \n",
    "\\frac{\\partial {\\frac{d v_{\\rho x}}{d{\\tau}}} }{\\partial v_{\\rho x}} = 0 & \n",
    "\\frac{\\partial {\\frac{d v_{\\rho x}}{d{\\tau}}} }{\\partial v_{\\rho y}} = 0 \\\\\n",
    "\\frac{\\partial {\\frac{d v_{\\rho y}}{d{\\tau}}} }{\\partial x} = \\frac{3 {\\rho}_x {\\rho}_y }{{\\rho}⁵} &\n",
    "\\frac{\\partial {\\frac{d v_{\\rho y}}{d{\\tau}}} }{\\partial y} = \\frac{2 { {\\rho}_y }² - { {\\rho}_x }² }{{\\rho}⁵} & \n",
    "\\frac{\\partial {\\frac{d v_{\\rho y}}{d{\\tau}}} }{\\partial v_{\\rho x}} = 0 & \n",
    "\\frac{\\partial {\\frac{d v_{\\rho y}}{d{\\tau}}} }{\\partial v_{\\rho y}} = 0 \n",
    "\\end{matrix} \\right)\n",
    "$$"
   ]
  },
  {
   "cell_type": "code",
   "execution_count": 36,
   "metadata": {
    "collapsed": true
   },
   "outputs": [],
   "source": [
    "def J_mov_planeta(x,t):\n",
    "    d_ec = array([0,0,0,0])\n",
    "    r5 = (x[0]**2 + x[1]**2)**2.5\n",
    "    rxmry = (2*x[0]**2 - x[1]**2)/r5\n",
    "    rymrx = (2*x[1]**2 - x[0]**2)/r5\n",
    "    rxry = (3*x[0]*x[1])/r5\n",
    "    Jac = array([[0,0,1,0],[0,0,0,1],[rxmry, rxry, 0, 0], [rxry, rymrx, 0, 0]])\n",
    "    return d_ec, Jac"
   ]
  },
  {
   "cell_type": "code",
   "execution_count": 43,
   "metadata": {
    "collapsed": false
   },
   "outputs": [
    {
     "data": {
      "image/png": "[encoded data removed]",
      "text/plain": [
       "<matplotlib.figure.Figure at 0x7f0400003f50>"
      ]
     },
     "metadata": {},
     "output_type": "display_data"
    },
    {
     "name": "stdout",
     "output_type": "stream",
     "text": [
      "CPU times: user 210 ms, sys: 0 ns, total: 210 ms\n",
      "Wall time: 210 ms\n"
     ]
    }
   ],
   "source": [
    "%%time\n",
    "t, r_vr = integra2(mov_planeta, J_mov_planeta, [1,0,0.9,0.7], [0,1.8*2*pi], 0.1)\n",
    "zoom = 2.5 \n",
    "xlim([-zoom, zoom]), ylim([-zoom, zoom])\n",
    "axes().set_aspect('equal'), grid(True)\n",
    "plot(r_vr[:,0], r_vr[:,1],'o')\n",
    "show()"
   ]
  },
  {
   "cell_type": "code",
   "execution_count": 58,
   "metadata": {
    "collapsed": false
   },
   "outputs": [
    {
     "data": {
      "image/png": "[encoded data removed]",
      "text/plain": [
       "<matplotlib.figure.Figure at 0x7f0400338190>"
      ]
     },
     "metadata": {},
     "output_type": "display_data"
    },
    {
     "name": "stdout",
     "output_type": "stream",
     "text": [
      "CPU times: user 206 ms, sys: 7.99 ms, total: 214 ms\n",
      "Wall time: 217 ms\n"
     ]
    }
   ],
   "source": [
    "%%time\n",
    "t, r_vr = RK_4(mov_planeta, [1,0,0.9,0.7], [0,2.8*2*pi], 0.1)\n",
    "zoom = 2.5 \n",
    "xlim([-zoom, zoom]), ylim([-zoom, zoom])\n",
    "axes().set_aspect('equal'), grid(True)\n",
    "plot(r_vr[:,0], r_vr[:,1],'o')\n",
    "show()"
   ]
  },
  {
   "cell_type": "code",
   "execution_count": 60,
   "metadata": {
    "collapsed": false
   },
   "outputs": [
    {
     "data": {
      "image/png": "[encoded data removed]",
      "text/plain": [
       "<matplotlib.figure.Figure at 0x7f040022e2d0>"
      ]
     },
     "metadata": {},
     "output_type": "display_data"
    }
   ],
   "source": [
    "zoom = 2.5 \n",
    "xlim([-zoom, zoom]), ylim([-zoom, zoom])\n",
    "axes().set_aspect('equal'), grid(True)\n",
    "plot(r_vr[:,2], r_vr[:,3],'o')\n",
    "show()"
   ]
  },
  {
   "cell_type": "code",
   "execution_count": 45,
   "metadata": {
    "collapsed": true
   },
   "outputs": [],
   "source": [
    "from scipy.integrate import *"
   ]
  },
  {
   "cell_type": "code",
   "execution_count": 54,
   "metadata": {
    "collapsed": false
   },
   "outputs": [],
   "source": [
    "h = 0.1\n",
    "tiempos = arange(0, 2.8*2*pi+h, h)"
   ]
  },
  {
   "cell_type": "code",
   "execution_count": 55,
   "metadata": {
    "collapsed": false
   },
   "outputs": [
    {
     "data": {
      "image/png": "[encoded data removed]",
      "text/plain": [
       "<matplotlib.figure.Figure at 0x7f03f8bc3810>"
      ]
     },
     "metadata": {},
     "output_type": "display_data"
    },
    {
     "name": "stdout",
     "output_type": "stream",
     "text": [
      "CPU times: user 212 ms, sys: 0 ns, total: 212 ms\n",
      "Wall time: 211 ms\n"
     ]
    }
   ],
   "source": [
    "%%time\n",
    "r_vr = odeint(mov_planeta, [1,0,0.9,0.7], tiempos)\n",
    "zoom = 2.5 \n",
    "xlim([-zoom, zoom]), ylim([-zoom, zoom])\n",
    "axes().set_aspect('equal'), grid(True)\n",
    "plot(r_vr[:,0], r_vr[:,1],'o')\n",
    "show()"
   ]
  },
  {
   "cell_type": "code",
   "execution_count": 56,
   "metadata": {
    "collapsed": false
   },
   "outputs": [
    {
     "data": {
      "image/png": "[encoded data removed]",
      "text/plain": [
       "<matplotlib.figure.Figure at 0x7f03f8bc3790>"
      ]
     },
     "metadata": {},
     "output_type": "display_data"
    }
   ],
   "source": [
    "zoom = 2.5 \n",
    "xlim([-zoom, zoom]), ylim([-zoom, zoom])\n",
    "axes().set_aspect('equal'), grid(True)\n",
    "plot(r_vr[:,2], r_vr[:,3],'o')\n",
    "show()"
   ]
  },
  {
   "cell_type": "code",
   "execution_count": null,
   "metadata": {
    "collapsed": true
   },
   "outputs": [],
   "source": []
  }
 ],
 "metadata": {
  "kernelspec": {
   "display_name": "Python [Root]",
   "language": "python",
   "name": "Python [Root]"
  },
  "language_info": {
   "codemirror_mode": {
    "name": "ipython",
    "version": 2
   },
   "file_extension": ".py",
   "mimetype": "text/x-python",
   "name": "python",
   "nbconvert_exporter": "python",
   "pygments_lexer": "ipython2",
   "version": "2.7.12"
  }
 },
 "nbformat": 4,
 "nbformat_minor": 0
}
